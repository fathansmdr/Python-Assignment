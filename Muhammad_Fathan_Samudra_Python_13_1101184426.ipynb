{
  "nbformat": 4,
  "nbformat_minor": 0,
  "metadata": {
    "colab": {
      "name": "Muhammad Fathan Samudra_Python 13_1101184426.ipynb",
      "provenance": [],
      "include_colab_link": true
    },
    "kernelspec": {
      "name": "python3",
      "display_name": "Python 3"
    }
  },
  "cells": [
    {
      "cell_type": "markdown",
      "metadata": {
        "id": "view-in-github",
        "colab_type": "text"
      },
      "source": [
        "<a href=\"https://colab.research.google.com/github/fathansmdr/Python-Assignment/blob/main/Muhammad_Fathan_Samudra_Python_13_1101184426.ipynb\" target=\"_parent\"><img src=\"https://colab.research.google.com/assets/colab-badge.svg\" alt=\"Open In Colab\"/></a>"
      ]
    },
    {
      "cell_type": "code",
      "metadata": {
        "id": "yupp8nFF6SRK"
      },
      "source": [
        "# Import necessary library to create a plot\r\n",
        "import numpy as np \r\n",
        "import matplotlib.pyplot as plt"
      ],
      "execution_count": 1,
      "outputs": []
    },
    {
      "cell_type": "markdown",
      "metadata": {
        "id": "m06s5Jvu7m3N"
      },
      "source": [
        "Assigning **PATHLOSS MODEL COST 231** function\r\n",
        "\r\n"
      ]
    },
    {
      "cell_type": "code",
      "metadata": {
        "id": "qjdF26K86zhB"
      },
      "source": [
        "def pathloss(fq,types,ht,hr,d):\r\n",
        "\r\n",
        "  # If the frequency is defined by the range number in MHz it will yield the values ​​Ca and Cb \r\n",
        "  if fq in range(150,1501):\r\n",
        "    Ca=69.55\r\n",
        "    Cb=26.16\r\n",
        "  elif fq in range(1501,2001):\r\n",
        "    Ca=46.3\r\n",
        "    Cb=33.9\r\n",
        "  else:\r\n",
        "    Ca = print(\"The given frequency does not meet the C1 criteria.\")\r\n",
        "    Cb = print(\"The given frequency does not meet the C2 criteria.\")\r\n",
        "    return Ca,Cb\r\n",
        "  \r\n",
        "  # Based on the area type\r\n",
        "  if types == 'urban' :\r\n",
        "    cm=0\r\n",
        "  elif types == 'suburban' :\r\n",
        "    cm=-2*((np.log10((fq/28)**2))-5.4)\r\n",
        "  elif types == 'open':\r\n",
        "    cm=-4.78*(np.log10(fq))+18.33*(np.log10(fq))-40.94\r\n",
        "  else:\r\n",
        "    cm=print('The given area type(s) is not suitable for this parameter')\r\n",
        "  \r\n",
        "  # The value of a(hr) is\r\n",
        "  ahr = (1.1*np.log10(fq)-0.7)*hr-(1.56*np.log10(fq)-1.8)\r\n",
        "\r\n",
        "  # Calculating the Path Loss Model\r\n",
        "  Lp = Ca+(Cb*np.log10(fq))-(13.83*np.log10(ht))-ahr+((44.9-6.55*np.log10(ht))*np.log10(d))-cm\r\n",
        "  return Lp"
      ],
      "execution_count": 2,
      "outputs": []
    },
    {
      "cell_type": "code",
      "metadata": {
        "colab": {
          "base_uri": "https://localhost:8080/"
        },
        "id": "bu0BDGhx_6x-",
        "outputId": "08b96b97-ed74-4fc6-cc53-d522c9f2303f"
      },
      "source": [
        "# Calculating the Pathloss Model Cost 231 for 1800 MHz in an Urban Area\r\n",
        "\r\n",
        "# fq is the frequency in range of 150 to 2000 MHz\r\n",
        "# ht is the height of antenna transmitter in range of 30 to 200 m\r\n",
        "# hr is the height of antenna receiver in range of 1 to 20 m\r\n",
        "# types is the type of area given\r\n",
        "# d is the distance between the transmitter and receiver in m\r\n",
        "\r\n",
        "f=1800 #in Mhz\r\n",
        "loc='urban'\r\n",
        "tower=80 #in m\r\n",
        "user=1.5 #in m\r\n",
        "dmin=200 #in m\r\n",
        "dmax=700 #in m\r\n",
        "N=200 #dots\r\n",
        "d=np.random.randint(dmin,dmax,N)\r\n",
        "\r\n",
        "# Print randon integers of Urban area distance input\r\n",
        "print(d) "
      ],
      "execution_count": 3,
      "outputs": [
        {
          "output_type": "stream",
          "text": [
            "[334 358 507 608 203 248 540 643 254 536 442 357 294 444 583 567 221 254\n",
            " 463 220 240 484 311 313 205 428 392 491 397 583 443 685 567 209 235 450\n",
            " 305 514 672 565 674 310 292 217 356 215 652 252 243 348 256 296 529 672\n",
            " 530 459 662 654 231 567 562 664 213 557 630 531 362 501 306 546 564 426\n",
            " 584 350 205 212 412 388 693 670 439 240 620 226 421 363 669 579 451 366\n",
            " 677 543 354 595 232 455 376 442 692 214 686 678 512 620 656 350 399 513\n",
            " 559 614 481 404 631 419 274 332 682 612 392 641 286 490 209 372 585 211\n",
            " 680 330 253 631 343 463 481 371 266 413 272 675 669 270 402 475 523 489\n",
            " 288 647 577 475 516 254 358 544 643 259 637 470 596 572 408 486 444 348\n",
            " 431 308 393 544 329 543 423 422 483 615 517 291 207 253 218 376 349 583\n",
            " 531 697 485 291 486 204 281 366 245 487 306 497 507 412 668 361 334 692\n",
            " 460 265]\n"
          ],
          "name": "stdout"
        }
      ]
    },
    {
      "cell_type": "code",
      "metadata": {
        "colab": {
          "base_uri": "https://localhost:8080/"
        },
        "id": "StVU5hWUCoKV",
        "outputId": "c5c58025-dc4a-40bf-871b-d390ce43acb4"
      },
      "source": [
        "# Define the Pathloss Model Cost 231 for Urban Areas with input given\r\n",
        "LpUrban=pathloss(f,loc,tower,user,d)\r\n",
        "\r\n",
        "# Print randon integers of Lp Urban area Model\r\n",
        "print(LpUrban)"
      ],
      "execution_count": 4,
      "outputs": [
        {
          "output_type": "stream",
          "text": [
            "[211.14814131 212.12561341 217.02731442 219.58627496 204.13411042\n",
            " 206.95449588 217.9155663  220.37467946 207.29123472 217.81083543\n",
            " 215.09466683 212.08621132 209.35128358 215.15826169 218.99482631\n",
            " 218.60283614 205.33083099 207.29123472 215.74851014 205.26694772\n",
            " 206.49261064 216.37334539 210.14311529 210.233412   204.27221189\n",
            " 214.64127752 213.40364159 216.57561279 213.58217678 218.99482631\n",
            " 215.12650015 221.26597366 218.60283614 204.54441819 206.19604732\n",
            " 215.34734154 209.86869939 217.2204686  220.99607433 218.5530614\n",
            " 221.0379354  210.09774895 209.25513142 205.07354096 212.04669871\n",
            " 204.9431119  220.57047587 207.17988049 206.66759721 211.72654316\n",
            " 207.40171558 209.44678386 217.62566156 220.99607433 217.65226448\n",
            " 215.62628606 220.78488241 220.61361905 205.95421756 218.60283614\n",
            " 218.47806795 220.82737486 204.81146387 218.35218473 220.0869694\n",
            " 217.67881724 212.28212877 216.85961913 209.91480823 218.07121692\n",
            " 218.52810792 214.5752997  219.01896725 211.80726681 204.27221189\n",
            " 204.74517557 214.10459403 213.25916609 221.42953123 220.9540885\n",
            " 214.99873295 206.49261064 219.86158479 205.64597249 214.40899036\n",
            " 212.32098738 220.93304856 218.89784667 215.37860956 212.43692415\n",
            " 221.10049466 217.9936066  211.96733941 219.2818224  206.01506533\n",
            " 215.50299216 212.81663009 215.09466683 221.40919009 204.87744168\n",
            " 221.28652251 221.12128616 217.16555142 219.86158479 220.6566305\n",
            " 211.80726681 213.65296204 217.19303677 218.4026731  219.72460247\n",
            " 216.28576228 213.82838445 220.10931078 214.34191292 208.35888475\n",
            " 211.06353902 221.20414662 219.67864407 213.40364159 220.33079706\n",
            " 208.96267307 216.54689466 204.54441819 212.66597371 219.0430669\n",
            " 204.67857385 221.16277732 210.97842555 207.23566764 220.10931078\n",
            " 211.52268667 215.74851014 216.28576228 212.62805649 207.94148421\n",
            " 214.13874251 208.25568841 221.05881937 220.93304856 208.15173046\n",
            " 213.75847742 216.10894527 217.46498031 216.51811786 209.0608354\n",
            " 220.46203625 218.84910531 216.10894527 217.2751725  207.29123472\n",
            " 212.12561341 218.01952425 220.37467946 207.56582895 220.24262001\n",
            " 215.95988316 219.30547688 218.72650891 213.96716624 216.43143305\n",
            " 215.15826169 211.72654316 214.7396684  210.00657557 213.43953011\n",
            " 218.01952425 210.93567517 217.9936066  214.47574991 214.44240969\n",
            " 216.34421149 219.74752556 217.30244499 209.20680808 204.40897255\n",
            " 207.23566764 205.13830539 212.81663009 211.76696281 218.99482631\n",
            " 217.67881724 221.51060332 216.40241916 209.20680808 216.43143305\n",
            " 204.2033304  208.71423211 212.43692415 206.78305882 216.4603873\n",
            " 209.91480823 216.7467028  217.02731442 214.10459403 220.91197714\n",
            " 212.24316267 211.14814131 221.40919009 215.65694164 207.88842864]\n"
          ],
          "name": "stdout"
        }
      ]
    },
    {
      "cell_type": "code",
      "metadata": {
        "colab": {
          "base_uri": "https://localhost:8080/"
        },
        "id": "bIEnSD6VH9Yh",
        "outputId": "5c007697-98f6-4951-fcc5-a09d0c19ecd1"
      },
      "source": [
        "# Calculating the Pathloss Model Cost 231  for 1800 MHz in the Sub Urban Area\r\n",
        "\r\n",
        "# fq is the frequency in range of 150 to 2000 MHz\r\n",
        "# ht is the height of antenna transmitter in range of 30 to 200 m\r\n",
        "# hr is the height of antenna receiver in range of 1 to 20 m\r\n",
        "# types is the type of area given\r\n",
        "# d is the distance between the transmitter and receiver in m\r\n",
        "\r\n",
        "f2=1800 #in Mhz\r\n",
        "loc2='suburban'\r\n",
        "tower2=80 #in m\r\n",
        "user2=1.5 #in m\r\n",
        "dmin2=200 #in m\r\n",
        "dmax2=700 #in m\r\n",
        "N2=200 #dots\r\n",
        "d2=np.random.randint(dmin2,dmax2,N2)\r\n",
        "\r\n",
        "# Print randon integers of Sub Urban area distance input\r\n",
        "print(d2) "
      ],
      "execution_count": 5,
      "outputs": [
        {
          "output_type": "stream",
          "text": [
            "[480 282 280 292 601 328 588 649 513 409 218 482 646 616 468 484 259 439\n",
            " 244 225 582 650 324 578 664 431 223 547 406 309 217 636 545 596 509 298\n",
            " 593 239 549 371 433 617 396 630 531 239 224 637 559 379 433 311 449 379\n",
            " 381 646 598 338 595 449 255 677 288 676 255 652 555 562 333 348 250 253\n",
            " 686 586 272 480 216 410 372 339 579 546 203 253 534 332 512 357 595 289\n",
            " 255 286 453 379 537 497 247 420 327 615 566 304 442 532 397 251 673 639\n",
            " 364 432 251 567 422 424 212 530 578 512 539 326 569 563 516 348 613 290\n",
            " 440 337 427 529 300 472 593 487 496 603 275 670 285 251 523 366 231 293\n",
            " 602 687 476 656 285 312 544 467 639 351 646 385 608 579 657 304 238 439\n",
            " 407 359 397 324 421 568 338 455 372 597 215 652 237 693 370 534 324 646\n",
            " 682 330 333 220 623 299 460 497 349 558 445 475 558 639 394 411 251 343\n",
            " 412 527]\n"
          ],
          "name": "stdout"
        }
      ]
    },
    {
      "cell_type": "code",
      "metadata": {
        "colab": {
          "base_uri": "https://localhost:8080/"
        },
        "id": "Yaww8zS8IPkO",
        "outputId": "27c371be-c88d-4f26-9ec6-2f87f3adf45a"
      },
      "source": [
        "# Determine the Pathloss Model Cost 231 for Sub Urban Area with the input given\r\n",
        "LpSuburban=pathloss(f2,loc2,tower2,user2,d2)\r\n",
        "\r\n",
        "# Print randon integers of Lp Sub Urban area Model\r\n",
        "print(LpSuburban)"
      ],
      "execution_count": 6,
      "outputs": [
        {
          "output_type": "stream",
          "text": [
            "[212.68890438 205.19672997 205.09647163 205.68758931 215.85561497\n",
            " 207.32525256 215.54757731 216.93797022 213.62549467 210.43410698\n",
            " 201.57076328 212.7474751  216.87270568 216.2028693  212.33227172\n",
            " 212.80580329 203.99828684 211.43119084 203.15790421 202.0159636\n",
            " 215.40310182 216.95965804 207.15241312 215.30595497 217.25983276\n",
            " 211.1721263  201.89019279 214.52945019 210.33040415 206.48469392\n",
            " 201.50599886 216.65294713 214.47785219 215.73793477 213.51523001\n",
            " 205.97409893 215.66685184 202.86625327 214.58085987 209.06051438\n",
            " 211.23734048 216.22571803 209.9791082  216.51942729 214.11127514\n",
            " 202.86625327 201.95321856 216.67507791 214.83513099 209.36103218\n",
            " 211.23734048 206.57557319 211.74846186 209.36103218 209.43517045\n",
            " 216.87270568 215.78512489 207.74829449 215.7142803  211.74846186\n",
            " 203.77904136 217.53295256 205.4932933  217.51213032 203.77904136\n",
            " 217.00293377 214.73397266 214.91052584 207.53836158 208.15900106\n",
            " 203.50009685 203.66812553 217.71898041 215.49958327 204.6881463\n",
            " 212.68890438 201.44093529 210.46850563 209.0984316  207.78990822\n",
            " 215.33030456 214.50367481 200.56656831 203.66812553 214.19063443\n",
            " 207.49599692 213.59800932 208.51866922 215.7142803  205.54211913\n",
            " 203.77904136 205.39513097 211.87339605 209.36103218 214.26954913\n",
            " 213.17916069 203.3300396  210.80794946 207.28224111 216.17998345\n",
            " 215.01042865 206.25489702 211.52712473 214.13777794 210.01463467\n",
            " 203.55632941 217.44947831 216.71923543 208.79219699 211.20477113\n",
            " 203.55632941 215.03529404 210.87486758 210.9414693  201.17763346\n",
            " 214.08472237 215.30595497 213.59800932 214.32191439 207.23909793\n",
            " 215.08489352 214.93556805 213.7076304  208.15900106 216.1340999\n",
            " 205.5907763  211.46324145 207.70655746 211.04078514 214.05811946\n",
            " 206.06832161 212.45215532 215.66685184 212.8928452  213.15078961\n",
            " 215.90241314 204.84265868 217.38654639 205.34579208 203.55632941\n",
            " 213.8974382  208.86938204 202.38667546 205.73574743 215.87903349\n",
            " 217.73949933 212.57102723 217.08908839 205.34579208 206.62079389\n",
            " 214.45198214 212.30214072 216.71923543 208.27991371 216.87270568\n",
            " 209.58228654 216.01873286 215.33030456 217.11054497 206.25489702\n",
            " 202.80719139 211.43119084 210.36505666 208.59736348 210.01463467\n",
            " 207.15241312 210.84144826 215.06011561 207.74829449 211.93545006\n",
            " 209.0984316  215.76154959 201.3755698  217.00293377 202.74788083\n",
            " 217.86198912 209.02249483 214.19063443 207.15241312 216.87270568\n",
            " 217.63660451 207.41088344 207.53836158 201.69940561 216.36203752\n",
            " 206.02128905 212.08939954 213.17916069 208.19942071 214.80990943\n",
            " 211.62240967 212.54140316 214.80990943 216.71923543 209.90778533\n",
            " 210.50282047 203.55632941 207.95514457 210.53705193 214.00476244]\n"
          ],
          "name": "stdout"
        }
      ]
    },
    {
      "cell_type": "code",
      "metadata": {
        "colab": {
          "base_uri": "https://localhost:8080/"
        },
        "id": "K0CERbZlJJZE",
        "outputId": "ac011f4b-aaf2-4cdb-dc4c-bb9f9a863555"
      },
      "source": [
        "# Calculating the Pathloss Model Cost 231  for 1800 MHz in the Open Area\r\n",
        "\r\n",
        "# fq is the frequency in range of 150 to 2000 MHz\r\n",
        "# ht is the height of antenna transmitter in range of 30 to 200 m\r\n",
        "# hr is the height of antenna receiver in range of 1 to 20 m\r\n",
        "# types is the type of area given\r\n",
        "# d is the distance between the transmitter and receiver in m\r\n",
        "\r\n",
        "f3=1800 #in Mhz\r\n",
        "loc3='open'\r\n",
        "tower3=80 #in m\r\n",
        "user3=1.5 #in m\r\n",
        "dmin3=200 #in m\r\n",
        "dmax3=700 #in m\r\n",
        "N3=200 #dots\r\n",
        "d3=np.random.randint(dmin2,dmax2,N2)\r\n",
        "\r\n",
        "# Print randon integers of Open area distance input\r\n",
        "print(d3) "
      ],
      "execution_count": 7,
      "outputs": [
        {
          "output_type": "stream",
          "text": [
            "[479 602 636 327 510 678 388 432 534 329 391 248 603 413 656 654 624 491\n",
            " 254 551 628 252 652 614 605 488 430 406 668 521 526 580 544 358 617 447\n",
            " 359 440 382 340 272 336 201 290 253 214 242 543 455 371 453 488 451 505\n",
            " 609 356 405 690 552 429 289 399 472 266 520 670 606 316 305 260 655 326\n",
            " 394 650 596 481 545 514 272 582 558 459 609 267 410 605 489 263 665 318\n",
            " 690 559 221 605 584 470 544 559 352 616 292 635 444 444 529 679 612 428\n",
            " 495 322 595 550 478 376 291 430 369 204 610 367 458 540 651 526 363 590\n",
            " 693 531 547 340 344 249 473 429 643 368 364 555 209 454 514 405 265 242\n",
            " 519 642 377 212 487 492 276 565 429 376 664 540 505 637 553 389 213 655\n",
            " 537 445 427 450 623 438 584 663 327 219 675 379 571 225 258 289 252 238\n",
            " 634 576 247 686 445 392 622 253 563 649 323 317 408 329 223 367 562 433\n",
            " 352 481]\n"
          ],
          "name": "stdout"
        }
      ]
    },
    {
      "cell_type": "code",
      "metadata": {
        "colab": {
          "base_uri": "https://localhost:8080/"
        },
        "id": "q2076hTyJXOG",
        "outputId": "6c938614-3fc8-4375-ad7b-ad9f09c982ae"
      },
      "source": [
        "# Define the Pathloss Model Cost 231 for Open Areas with input given\r\n",
        "LpOpen=pathloss(f3,loc3,tower3,user3,d3)\r\n",
        "\r\n",
        "# Print randon integers of Lp Open area Model\r\n",
        "print(LpOpen)"
      ],
      "execution_count": 8,
      "outputs": [
        {
          "output_type": "stream",
          "text": [
            "[213.0581271  216.27763315 217.05154679 207.68084077 213.94147686\n",
            " 217.95234372 210.09022365 211.60337079 214.58923409 207.76673273\n",
            " 210.19871895 203.78555343 216.3010128  210.96980006 217.48768805\n",
            " 217.44467661 216.78322939 213.40667035 204.12229228 215.03068227\n",
            " 216.8732376  204.01093804 217.40153343 216.55566002 216.34765602\n",
            " 213.32033971 211.5380053  210.72900381 217.7430347  214.24206754\n",
            " 214.3766076  215.7532118  214.8505818  208.95667097 216.62431769\n",
            " 212.08417642 208.99596315 211.86184111 209.87069343 208.22999903\n",
            " 205.08674596 208.06329605 200.82569914 205.98937596 204.0667252\n",
            " 201.70849924 203.44056711 214.82466415 212.33404972 209.45911405\n",
            " 212.27199571 213.32033971 212.20966712 213.80269507 216.44048164\n",
            " 208.87775626 210.69426585 218.19947703 215.05622396 211.50520846\n",
            " 205.94071879 210.48401959 212.85075498 204.77254176 214.21500463\n",
            " 217.78514605 216.37091983 207.1988385  206.69975694 204.45116879\n",
            " 217.46619875 207.63769759 210.30638499 217.3582577  216.13653443\n",
            " 213.11681984 214.87645185 214.05152615 205.08674596 215.80170148\n",
            " 215.20850909 212.45734361 216.44048164 204.82539825 210.86710529\n",
            " 216.34765602 213.34917542 204.61277176 217.67963067 207.28771095\n",
            " 218.19947703 215.23373065 202.16188855 216.34765602 215.85002481\n",
            " 212.79094072 214.8505818  215.23373065 208.71858804 216.60146897\n",
            " 206.08618897 217.02938119 211.98931925 211.98931925 214.45671912\n",
            " 217.97310457 216.50970162 211.47233507 213.52096093 207.46379121\n",
            " 216.11287996 215.00509418 213.02868877 209.64768765 206.03786564\n",
            " 211.5380053  209.38297204 201.03438795 216.46359278 209.30641621\n",
            " 212.42662116 214.74662386 217.37991218 214.3766076  209.15204494\n",
            " 215.99400805 218.26058878 214.5098748  214.92804985 208.22999903\n",
            " 208.39475223 203.84223857 212.88056713 211.50520846 217.20573701\n",
            " 209.34474613 209.19079665 215.13257232 201.37547575 212.30305688\n",
            " 214.05152615 210.69426585 204.71948619 203.44056711 214.18788963\n",
            " 217.1838129  209.68510131 201.57623312 213.29144486 213.43533005\n",
            " 205.29238812 215.38411896 211.50520846 209.64768765 217.65843242\n",
            " 214.74662386 213.80269507 217.07367757 215.08171942 210.12648168\n",
            " 201.64252142 217.46619875 214.66814879 212.02100933 211.4393848\n",
            " 212.1783991  216.76063718 211.7976668  215.85002481 217.63720222\n",
            " 207.68084077 202.03383096 217.88987693 209.75963184 215.53291862\n",
            " 202.41456326 204.34239422 205.94071879 204.01093804 203.20579105\n",
            " 217.00718065 215.6557288  203.72863927 218.11758007 212.02100933\n",
            " 210.23469915 216.73800869 204.0667252  215.33416771 217.33656988\n",
            " 207.5074695  207.24334481 210.79822379 207.76673273 202.28879245\n",
            " 209.30641621 215.3091255  211.63594014 208.71858804 213.11681984]\n"
          ],
          "name": "stdout"
        }
      ]
    },
    {
      "cell_type": "code",
      "metadata": {
        "id": "EpwTBu87DIER"
      },
      "source": [
        "d_sort=d[np.argsort(d)]\r\n",
        "Urban_sort=LpUrban[np.argsort(d)]\r\n",
        "\r\n",
        "d2_sort=d2[np.argsort(d2)]\r\n",
        "Suburban_sort=LpSuburban[np.argsort(d2)]\r\n",
        "\r\n",
        "d3_sort=d3[np.argsort(d3)]\r\n",
        "Open_sort=LpOpen[np.argsort(d3)]"
      ],
      "execution_count": 9,
      "outputs": []
    },
    {
      "cell_type": "code",
      "metadata": {
        "colab": {
          "base_uri": "https://localhost:8080/",
          "height": 295
        },
        "id": "Apyl-W_MGNPQ",
        "outputId": "db4f8098-04f3-4497-a167-4b1a7a166211"
      },
      "source": [
        "fig, ax = plt.subplots()\r\n",
        "ax.plot(d_sort,Urban_sort, color='b', label='Urban')\r\n",
        "ax.plot(d2_sort,Suburban_sort, color='r', label='Sub Urban')\r\n",
        "ax.plot(d3_sort,Open_sort, color='g', label='Open')\r\n",
        "ax.set_title('Frequency of 1800 MHz based on Type Area given')\r\n",
        "ax.set_xlabel('Distance (m)')\r\n",
        "ax.set_ylabel('Pathloss (dB)')\r\n",
        "ax.legend(loc='upper left')\r\n",
        "plt.show()"
      ],
      "execution_count": 10,
      "outputs": [
        {
          "output_type": "display_data",
          "data": {
            "image/png": "[encoded data removed]",
            "text/plain": [
              "<Figure size 432x288 with 1 Axes>"
            ]
          },
          "metadata": {
            "tags": [],
            "needs_background": "light"
          }
        }
      ]
    },
    {
      "cell_type": "code",
      "metadata": {
        "id": "8h3mfJfbGnVm",
        "colab": {
          "base_uri": "https://localhost:8080/"
        },
        "outputId": "5f28eb46-35c3-4701-85b1-20de9d7d8bca"
      },
      "source": [
        "# Calculating the Pathloss Model Cost 231 for 700 MHz in the Urban Area\r\n",
        "\r\n",
        "# fq is the frequency in range of 150 to 2000 MHz\r\n",
        "# ht is the height of antenna transmitter in range of 30 to 200 m\r\n",
        "# hr is the height of antenna receiver in range of 1 to 20 m\r\n",
        "# types is the type of area given\r\n",
        "# d is the distance between the transmitter and receiver in m\r\n",
        "\r\n",
        "f4=700 #in Mhz\r\n",
        "loc4='urban'\r\n",
        "tower4=80 #in m\r\n",
        "user4=1.5 #in m\r\n",
        "dmin4=200 #in m\r\n",
        "dmax4=700 #in m\r\n",
        "N4=200 #dots\r\n",
        "d4=np.random.randint(dmin2,dmax2,N2)\r\n",
        "\r\n",
        "# Print randon integers of 700 MHz Urban area distance input\r\n",
        "print(d4) "
      ],
      "execution_count": 11,
      "outputs": [
        {
          "output_type": "stream",
          "text": [
            "[642 431 650 621 630 279 353 697 454 363 444 523 674 668 559 394 436 591\n",
            " 297 508 438 630 330 274 262 493 696 269 276 215 666 655 390 450 280 574\n",
            " 342 248 551 401 462 604 228 652 346 677 340 215 563 571 389 539 675 306\n",
            " 468 552 412 558 535 273 402 316 499 384 441 402 533 393 200 521 458 266\n",
            " 630 539 306 259 344 244 520 684 343 427 445 348 311 281 462 575 659 345\n",
            " 656 300 463 509 238 541 350 325 226 282 340 468 245 506 682 436 513 287\n",
            " 519 441 656 644 575 451 644 322 471 440 402 428 416 377 384 681 321 426\n",
            " 496 689 331 676 529 300 360 300 224 454 231 555 549 329 349 554 494 383\n",
            " 691 616 433 551 509 496 273 218 494 433 646 548 348 536 453 414 504 233\n",
            " 454 257 454 310 648 382 302 320 558 655 425 296 600 628 204 618 616 398\n",
            " 531 629 381 564 332 235 472 421 376 295 372 418 481 584 514 380 691 243\n",
            " 461 385]\n"
          ],
          "name": "stdout"
        }
      ]
    },
    {
      "cell_type": "code",
      "metadata": {
        "colab": {
          "base_uri": "https://localhost:8080/"
        },
        "id": "xZwFZHnXcFi6",
        "outputId": "6e352852-051f-4aca-cac8-438b4eaabb3a"
      },
      "source": [
        "# Determine the Pathloss Model Cost 231 for Open Areas with input given\r\n",
        "LpUrbanFQ1=pathloss(f4,loc4,tower4,user4,d4)\r\n",
        "\r\n",
        "# Print randon integers of Lp Open area Model\r\n",
        "print(LpUrbanFQ1)"
      ],
      "execution_count": 12,
      "outputs": [
        {
          "output_type": "stream",
          "text": [
            "[207.71369785 202.10061091 207.88814265 207.24522873 207.4479119\n",
            " 195.9745582  199.28843398 208.87154583 202.83294183 199.68192989\n",
            " 202.5192042  204.82592281 208.3988779  208.27291965 205.7636156\n",
            " 200.83626994 202.26308373 206.54774777 196.8552348  204.41601307\n",
            " 202.32755175 207.4479119  198.33936805 195.71982725 195.08899479\n",
            " 203.9938165  208.85132151 195.46040487 195.82227307 192.30405441\n",
            " 208.23068202 207.9960837  200.69253157 202.70828405 196.02495624\n",
            " 206.13661809 198.84250145 194.31543838 205.56056722 201.08433588\n",
            " 203.07899591 206.85423867 193.13102362 207.93141838 199.00629676\n",
            " 208.46143717 198.75988398 192.30405441 205.86405266 206.06280357\n",
            " 200.65636663 205.250399   208.41976188 197.27575073 203.26075633\n",
            " 205.58610891 201.46553654 205.73839404 205.14547309 195.66832359\n",
            " 201.11941992 197.72872345 204.16421662 200.47413592 202.42370391\n",
            " 201.11941992 205.09271559 200.80047262 191.28532839 204.77195249\n",
            " 202.95650611 195.30242671 207.4479119  205.250399   197.27575073\n",
            " 194.92677145 198.92463718 194.08638882 204.74488958 208.60633729\n",
            " 198.88362918 201.96926975 202.55089428 199.08748567 197.5040578\n",
            " 196.07517461 203.07899591 206.16113722 208.08184492 198.96552614\n",
            " 208.017573   196.99680622 203.10945265 204.44371462 193.735676\n",
            " 205.30257031 199.16820931 198.12430681 193.006915   196.12521459\n",
            " 198.75988398 203.26075633 194.14400133 204.36044598 208.56508913\n",
            " 202.26308373 204.55397928 196.37278225 204.71777458 202.42370391\n",
            " 208.017573   207.757512   206.16113722 202.73955207 207.757512\n",
            " 197.99367616 203.35076455 202.39172606 201.11941992 202.00222002\n",
            " 201.60163651 200.21498626 200.47413592 208.54441966 197.94986201\n",
            " 201.93624221 204.07927422 208.70893233 198.38198908 208.44061493\n",
            " 204.98660407 196.99680622 199.56503098 196.99680622 192.88170317\n",
            " 202.83294183 193.31516007 205.66245727 205.50934448 198.29661768\n",
            " 199.12790532 205.63705377 204.02236005 200.43740516 208.74976204\n",
            " 207.13135392 202.16582509 205.56056722 204.44371462 204.07927422\n",
            " 195.66832359 192.49924789 204.02236005 202.16582509 207.80119029\n",
            " 205.48366309 199.08748567 205.17177793 202.80188066 201.5337509\n",
            " 204.30465883 193.4365939  202.83294183 194.81757526 202.83294183\n",
            " 197.45869145 207.84473357 200.40057837 197.09040283 197.90591116\n",
            " 205.73839404 207.9960837  201.90313705 196.80772637 206.76064206\n",
            " 207.40312255 191.5642729  207.17701437 207.13135392 200.97855638\n",
            " 205.03975975 207.42553503 200.36365506 205.88905042 198.42448153\n",
            " 193.55698983 203.38063993 201.76993287 200.1775726  196.76005716\n",
            " 200.02691621 201.66919653 203.64670479 206.37990976 204.5814111\n",
            " 200.3266347  208.74976204 194.02853972 203.04847317 200.51077115]\n"
          ],
          "name": "stdout"
        }
      ]
    },
    {
      "cell_type": "code",
      "metadata": {
        "colab": {
          "base_uri": "https://localhost:8080/"
        },
        "id": "fi4o1h9OcOAH",
        "outputId": "264356c3-93f7-4e98-a535-7a64f636272e"
      },
      "source": [
        "# Calculating the Pathloss Model Cost 231 for 700 MHz in the Urban Area\r\n",
        "\r\n",
        "# fq is the frequency in range of 150 to 2000 MHz\r\n",
        "# ht is the height of antenna transmitter in range of 30 to 200 m\r\n",
        "# hr is the height of antenna receiver in range of 1 to 20 m\r\n",
        "# types is the type of area given\r\n",
        "# d is the distance between the transmitter and receiver in m\r\n",
        "\r\n",
        "f5=900 #in Mhz\r\n",
        "loc5='urban'\r\n",
        "tower5=80 #in m\r\n",
        "user5=1.5 #in m\r\n",
        "dmin5=200 #in m\r\n",
        "dmax5=700 #in m\r\n",
        "N5=200 #dots\r\n",
        "d5=np.random.randint(dmin2,dmax2,N2)\r\n",
        "\r\n",
        "# Print randon integers of 700 MHz Urban area distance input\r\n",
        "print(d5) "
      ],
      "execution_count": 13,
      "outputs": [
        {
          "output_type": "stream",
          "text": [
            "[328 336 247 335 202 650 271 527 664 638 578 337 533 262 216 409 656 493\n",
            " 507 528 497 642 233 605 476 375 636 681 592 568 349 690 459 520 674 228\n",
            " 235 349 215 625 266 441 611 228 638 275 574 216 584 698 295 544 309 401\n",
            " 246 694 218 295 490 432 420 355 219 229 514 544 375 533 282 251 527 597\n",
            " 463 520 371 458 620 522 403 351 258 548 682 546 277 440 400 288 696 450\n",
            " 308 268 289 332 424 523 493 384 321 617 364 440 469 405 368 376 566 587\n",
            " 271 663 359 404 373 608 346 489 275 259 602 237 289 354 550 288 683 358\n",
            " 575 507 548 535 411 231 640 470 539 693 403 284 422 411 229 674 455 597\n",
            " 482 313 466 575 314 694 418 480 383 343 434 276 227 568 664 288 203 347\n",
            " 679 527 349 568 313 295 309 501 276 477 271 332 418 629 228 574 698 218\n",
            " 464 459 348 498 261 574 671 669 436 400 566 518 558 226 317 239 255 400\n",
            " 302 618]\n"
          ],
          "name": "stdout"
        }
      ]
    },
    {
      "cell_type": "code",
      "metadata": {
        "colab": {
          "base_uri": "https://localhost:8080/"
        },
        "id": "91QFv7Uucc9J",
        "outputId": "d9f3cc58-9b8c-4878-db15-3d137c0889e6"
      },
      "source": [
        "# Define the Pathloss Model Cost 231 for Open Areas with input given\r\n",
        "LpUrbanFQ2=pathloss(f5,loc5,tower5,user5,d5)\r\n",
        "\r\n",
        "# Print randon integers of Lp Open area Model\r\n",
        "print(LpUrbanFQ2)"
      ],
      "execution_count": 14,
      "outputs": [
        {
          "output_type": "stream",
          "text": [
            "[201.09913348 201.43857732 197.10392053 201.39659148 194.27088743\n",
            " 210.73353897 198.41014416 207.77864336 211.03371369 210.4710549\n",
            " 209.07983589 201.48043838 207.93811191 197.93439111 195.21481622\n",
            " 204.20798791 210.86296932 206.83921282 207.23365324 207.80534714\n",
            " 206.95304162 210.55909417 196.28199022 209.72293728 206.34490815\n",
            " 202.98545561 210.42682806 211.38981598 209.41695852 208.83399654\n",
            " 201.97330163 211.5747583  205.83262488 207.5902859  211.24427422\n",
            " 195.97641994 196.40238615 201.97330163 195.14945073 210.18106669\n",
            " 198.14782303 205.26910023 209.86194734 195.97641994 210.4710549\n",
            " 198.61653961 208.98201441 195.21481622 209.22530608 211.73713747\n",
            " 199.60545348 208.22586307 200.25857485 203.9297322  197.04677547\n",
            " 211.65618186 195.34464421 199.60545348 206.75323348 204.97865206\n",
            " 204.58183039 202.21341377 195.40911223 196.03806659 207.42680742\n",
            " 208.22586307 202.98545561 207.93811191 198.9706109  197.33021034\n",
            " 207.77864336 209.53543052 205.95484897 207.5902859  202.83439531\n",
            " 205.80190243 210.06792361 207.64435982 203.99981312 202.05379464\n",
            " 197.71767549 208.32905941 211.41048544 208.27755574 198.71861424\n",
            " 205.23712238 203.89456055 199.26717423 211.69671783 205.55368037\n",
            " 200.21291439 198.25333841 199.31600006 201.26987785 204.71535023\n",
            " 207.67131913 206.83921282 203.31953224 200.79525833 209.99959896\n",
            " 202.56607791 205.23712238 206.13621934 204.06954712 202.7200274\n",
            " 203.02296891 208.78430958 209.29748166 198.41014416 211.01248348\n",
            " 202.37124441 204.03472327 202.91012796 209.79261379 201.85169307\n",
            " 206.72445669 198.61653961 197.77216777 209.65291442 196.52176175\n",
            " 199.31600006 202.17367824 208.38037545 199.26717423 211.43112462\n",
            " 202.33195223 209.00653354 207.23365324 208.32905941 207.99086941\n",
            " 204.2767014  196.16055639 210.51514332 206.16622198 208.09579532\n",
            " 211.63587005 203.99981312 199.0701607  204.64874851 204.2767014\n",
            " 196.03806659 211.24427422 205.70933098 209.53543052 206.52135603\n",
            " 200.43975082 206.04582606 209.00653354 200.48468303 211.65618186\n",
            " 204.51459285 206.46278531 203.28280148 201.7290255  205.04371562\n",
            " 198.66766939 195.91450231 208.83399654 211.03371369 199.26717423\n",
            " 194.34044924 201.89234602 211.34838584 207.77864336 201.97330163\n",
            " 208.83399654 200.43975082 199.60545348 200.25857485 207.06595796\n",
            " 198.66766939 206.37447005 198.41014416 201.26987785 204.51459285\n",
            " 210.27093135 195.97641994 208.98201441 211.73713747 195.34464421\n",
            " 205.98524    205.83262488 201.93288199 206.98135568 197.88052398\n",
            " 208.98201441 211.18143588 211.13938738 205.10848005 203.89456055\n",
            " 208.78430958 207.53600361 208.58379036 195.85231132 200.61862608\n",
            " 196.64013419 197.55292229 203.89456055 199.93579915 210.02241069]\n"
          ],
          "name": "stdout"
        }
      ]
    },
    {
      "cell_type": "code",
      "metadata": {
        "colab": {
          "base_uri": "https://localhost:8080/"
        },
        "id": "pEm63j3uciSF",
        "outputId": "7148133d-cef0-4b47-eb9f-566d152f4c9e"
      },
      "source": [
        "# Calculating the Pathloss Model Cost 231 for 700 MHz in the Urban Area\r\n",
        "\r\n",
        "# fq is the frequency in range of 150 to 2000 MHz\r\n",
        "# ht is the height of antenna transmitter in range of 30 to 200 m\r\n",
        "# hr is the height of antenna receiver in range of 1 to 20 m\r\n",
        "# types is the type of area given\r\n",
        "# d is the distance between the transmitter and receiver in m\r\n",
        "\r\n",
        "f6=1800 #in Mhz\r\n",
        "loc6='urban'\r\n",
        "tower6=80 #in m\r\n",
        "user6=1.5 #in m\r\n",
        "dmin6=200 #in m\r\n",
        "dmax6=700 #in m\r\n",
        "N6=200 #dots\r\n",
        "d6=np.random.randint(dmin2,dmax2,N2)\r\n",
        "\r\n",
        "# Print randon integers of 700 MHz Urban area distance input\r\n",
        "print(d6) "
      ],
      "execution_count": 15,
      "outputs": [
        {
          "output_type": "stream",
          "text": [
            "[391 479 414 255 396 395 416 632 628 215 696 547 527 645 305 234 602 481\n",
            " 370 222 634 673 338 305 468 394 424 589 472 435 605 608 463 442 453 246\n",
            " 563 445 607 491 379 214 594 695 601 621 635 213 503 561 564 469 482 201\n",
            " 600 536 295 375 342 664 313 291 544 529 318 243 495 335 256 345 309 225\n",
            " 604 538 503 496 514 671 373 336 583 383 420 639 231 334 580 599 320 411\n",
            " 574 680 449 207 332 257 536 353 230 402 541 616 220 220 547 405 675 512\n",
            " 448 571 577 367 449 672 201 559 217 292 287 594 600 548 483 276 303 460\n",
            " 550 445 410 499 374 238 385 233 691 523 421 208 207 269 322 583 521 374\n",
            " 504 292 480 271 359 437 450 475 657 558 355 383 240 270 619 297 567 356\n",
            " 537 218 383 524 211 649 389 568 285 287 210 304 632 229 567 492 320 398\n",
            " 487 417 280 452 355 355 646 290 252 392 364 358 319 300 365 680 318 262\n",
            " 343 359]\n"
          ],
          "name": "stdout"
        }
      ]
    },
    {
      "cell_type": "code",
      "metadata": {
        "colab": {
          "base_uri": "https://localhost:8080/"
        },
        "id": "0COqwfm4c2Bi",
        "outputId": "8bbd0904-8657-4c27-f99e-bf362bf2c3a9"
      },
      "source": [
        "# Define the Pathloss Model Cost 231 for Open Areas with input given\r\n",
        "LpUrbanFQ3=pathloss(f6,loc6,tower6,user6,d6)\r\n",
        "\r\n",
        "# Print randon integers of Lp Open area Model\r\n",
        "print(LpUrbanFQ3)"
      ],
      "execution_count": 16,
      "outputs": [
        {
          "output_type": "stream",
          "text": [
            "[213.3676614  216.22706954 214.17280839 207.34658347 213.54665031\n",
            " 213.51103401 214.24069401 220.13161678 220.04218005 204.9431119\n",
            " 221.490379   218.09699229 217.57230454 220.41842557 209.86869939\n",
            " 206.13597799 219.44657559 216.28576228 212.59003693 205.39442585\n",
            " 220.1761231  221.01702042 211.31583659 209.86869939 215.89981383\n",
            " 213.47532743 214.50901141 219.13905526 216.01969742 214.86979623\n",
            " 219.51659846 219.58627496 215.74851014 215.09466683 215.44093815\n",
            " 206.84043665 218.50311015 215.18995178 219.56308774 216.57561279\n",
            " 212.92857429 204.87744168 219.25812813 221.4701256  219.42315707\n",
            " 219.88428622 220.19832363 204.81146387 216.91573968 218.45298114\n",
            " 218.52810792 215.92988051 216.3150172  203.99464158 219.39969955\n",
            " 217.81083543 209.39911465 212.77911679 211.48155894 220.82737486\n",
            " 210.233412   209.20680808 218.01952425 217.62566156 210.4566534\n",
            " 206.66759721 216.68990338 211.19025266 207.40171558 211.60458363\n",
            " 210.05223602 205.58350571 219.49329616 217.8632982  216.91573968\n",
            " 216.71833172 217.2204686  220.97509706 212.70378913 211.2322385\n",
            " 218.99482631 213.07646266 214.37549157 220.28677753 205.95421756\n",
            " 211.14814131 218.92215424 219.3762029  210.54496865 214.07036258\n",
            " 218.77567558 221.16277732 215.31600396 204.40897255 211.06353902\n",
            " 207.45663276 217.81083543 211.92749147 205.89310581 213.75847742\n",
            " 217.9416278  219.77041141 205.26694772 205.26694772 218.09699229\n",
            " 213.86320829 221.05881937 217.16555142 215.28459651 218.70186107\n",
            " 218.84910531 212.47535865 215.31600396 220.99607433 203.99464158\n",
            " 218.4026731  205.07354096 209.25513142 209.01183974 219.25812813\n",
            " 219.39969955 218.12272059 216.34421149 208.46133056 209.77602644\n",
            " 215.65694164 218.17403663 215.18995178 214.03604773 216.80327411\n",
            " 212.74150331 206.37473349 213.14982864 206.0756514  221.38881953\n",
            " 217.46498031 214.40899036 204.47685817 204.40897255 208.09946236\n",
            " 210.63273366 218.99482631 217.41100998 212.74150331 216.94371633\n",
            " 209.25513142 216.25644648 208.20380534 212.16490559 214.93441212\n",
            " 215.34734154 216.10894527 220.67808707 218.37745154 212.00707495\n",
            " 213.07646266 206.49261064 208.15173046 219.83884671 209.4942923\n",
            " 218.60283614 212.04669871 217.83709124 205.13830539 213.07646266\n",
            " 217.49188812 204.67857385 220.50551233 213.29542412 218.62765771\n",
            " 208.91333419 209.01183974 204.61165573 209.82243913 220.13161678\n",
            " 205.83172777 218.60283614 216.60427249 210.54496865 213.61761387\n",
            " 216.4603873  214.27451452 208.66401374 215.40980833 212.00707495\n",
            " 212.00707495 220.44024779 209.1583184  207.17988049 213.40364159\n",
            " 212.35973909 212.12561341 210.50088024 209.63586371 212.39838449\n",
            " 221.16277732 210.4566534  207.72805228 211.52268667 212.16490559]\n"
          ],
          "name": "stdout"
        }
      ]
    },
    {
      "cell_type": "code",
      "metadata": {
        "id": "TOhKmYsec7Pn"
      },
      "source": [
        "d4_sort=d4[np.argsort(d4)]\r\n",
        "UrbanFQ_sort=LpUrbanFQ1[np.argsort(d4)]\r\n",
        "\r\n",
        "d5_sort=d5[np.argsort(d5)]\r\n",
        "UrbanFQ2_sort=LpUrbanFQ2[np.argsort(d5)]\r\n",
        "\r\n",
        "d6_sort=d6[np.argsort(d6)]\r\n",
        "UrbanFQ3_sort=LpUrbanFQ3[np.argsort(d6)]"
      ],
      "execution_count": 17,
      "outputs": []
    },
    {
      "cell_type": "code",
      "metadata": {
        "colab": {
          "base_uri": "https://localhost:8080/",
          "height": 295
        },
        "id": "mj_Qjq0ddR4-",
        "outputId": "ae1cd869-4f0f-441f-b694-89124ef14d8a"
      },
      "source": [
        "fig, ax = plt.subplots()\r\n",
        "ax.plot(d4_sort,UrbanFQ_sort, color='b', label='700 MHz')\r\n",
        "ax.plot(d5_sort,UrbanFQ2_sort, color='r', label='900 MHz')\r\n",
        "ax.plot(d6_sort,UrbanFQ3_sort, color='g', label='1800 MHz')\r\n",
        "ax.set_title('Urban Area Model based on Frequency Area given')\r\n",
        "ax.set_xlabel('Distance (m)')\r\n",
        "ax.set_ylabel('Pathloss (dB)')\r\n",
        "ax.legend(loc='upper left')\r\n",
        "plt.show()"
      ],
      "execution_count": 18,
      "outputs": [
        {
          "output_type": "display_data",
          "data": {
            "image/png": "[encoded data removed]",
            "text/plain": [
              "<Figure size 432x288 with 1 Axes>"
            ]
          },
          "metadata": {
            "tags": [],
            "needs_background": "light"
          }
        }
      ]
    }
  ]
}